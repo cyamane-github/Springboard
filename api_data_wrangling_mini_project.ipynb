{
 "cells": [
  {
   "cell_type": "markdown",
   "metadata": {},
   "source": [
    "This exercise will require you to pull some data from the Qunadl API. Qaundl is currently the most widely used aggregator of financial market data."
   ]
  },
  {
   "cell_type": "markdown",
   "metadata": {},
   "source": [
    "As a first step, you will need to register a free account on the http://www.quandl.com website."
   ]
  },
  {
   "cell_type": "markdown",
   "metadata": {},
   "source": [
    "After you register, you will be provided with a unique API key, that you should store:"
   ]
  },
  {
   "cell_type": "code",
   "execution_count": 1,
   "metadata": {},
   "outputs": [],
   "source": [
    "# Store the API key as a string - according to PEP8, constants are always named in all upper case\n",
    "API_KEY = 'HYgq8vXqEZM-rZJPc_Bf'"
   ]
  },
  {
   "cell_type": "markdown",
   "metadata": {},
   "source": [
    "Qaundl has a large number of data sources, but, unfortunately, most of them require a Premium subscription. Still, there are also a good number of free datasets."
   ]
  },
  {
   "cell_type": "markdown",
   "metadata": {},
   "source": [
    "For this mini project, we will focus on equities data from the Frankfurt Stock Exhange (FSE), which is available for free. We'll try and analyze the stock prices of a company called Carl Zeiss Meditec, which manufactures tools for eye examinations, as well as medical lasers for laser eye surgery: https://www.zeiss.com/meditec/int/home.html. The company is listed under the stock ticker AFX_X."
   ]
  },
  {
   "cell_type": "markdown",
   "metadata": {},
   "source": [
    "You can find the detailed Quandl API instructions here: https://docs.quandl.com/docs/time-series"
   ]
  },
  {
   "cell_type": "markdown",
   "metadata": {},
   "source": [
    "While there is a dedicated Python package for connecting to the Quandl API, we would prefer that you use the *requests* package, which can be easily downloaded using *pip* or *conda*. You can find the documentation for the package here: http://docs.python-requests.org/en/master/ "
   ]
  },
  {
   "cell_type": "markdown",
   "metadata": {},
   "source": [
    "Finally, apart from the *requests* package, you are encouraged to not use any third party Python packages, such as *pandas*, and instead focus on what's available in the Python Standard Library (the *collections* module might come in handy: https://pymotw.com/3/collections/ ).\n",
    "Also, since you won't have access to DataFrames, you are encouraged to us Python's native data structures - preferably dictionaries, though some questions can also be answered using lists.\n",
    "You can read more on these data structures here: https://docs.python.org/3/tutorial/datastructures.html"
   ]
  },
  {
   "cell_type": "markdown",
   "metadata": {},
   "source": [
    "Keep in mind that the JSON responses you will be getting from the API map almost one-to-one to Python's dictionaries. Unfortunately, they can be very nested, so make sure you read up on indexing dictionaries in the documentation provided above."
   ]
  },
  {
   "cell_type": "code",
   "execution_count": 2,
   "metadata": {},
   "outputs": [],
   "source": [
    "# First, import the relevant modules\n",
    "import requests\n"
   ]
  },
  {
   "cell_type": "code",
   "execution_count": 3,
   "metadata": {},
   "outputs": [],
   "source": [
    "# Now, call the Quandl API and pull out a small sample of the data (only one day) to get a glimpse\n",
    "# into the JSON structure that will be returned\n",
    "url=\"https://www.quandl.com/api/v3/datasets/FSE/AFX_X/data.json?api_key=HYgq8vXqEZM-rZJPc_Bf&start_date=2017-01-01&end_date=2017-12-31\"\n",
    "r = requests.get(url)\n"
   ]
  },
  {
   "cell_type": "code",
   "execution_count": 4,
   "metadata": {},
   "outputs": [
    {
     "name": "stdout",
     "output_type": "stream",
     "text": [
      "34.0 53.11 2.8100000000000023 2.559999999999995 22463526.0 252\n"
     ]
    }
   ],
   "source": [
    "# Inspect the JSON structure of the object you created, and take note of how nested it is,\n",
    "# as well as the overall structure\n",
    "minopen=999\n",
    "maxopen=0\n",
    "maxonedaychange=0\n",
    "maxtwodaychange=0\n",
    "tradedvolume=0\n",
    "days=0\n",
    "json_data = r.json()\n",
    "priorclose=json_data['dataset_data']['data'][0][4]\n",
    "for x in json_data['dataset_data']['data']:\n",
    "    #0 'Date'\n",
    "    #1 'Open'\n",
    "    #2 'High'\n",
    "    #3 'Low'\n",
    "    #4 'Close'\n",
    "    #5 'Change'\n",
    "    #6 'Traded Volume'\n",
    "    #7 'Turnover'\n",
    "    #8 'Last Price of the Day'\n",
    "    #9 'Daily Traded Units'\n",
    "    #10'Daily Turnover'\n",
    "    if x[1] is not None:\n",
    "        if  x[1] < minopen and x[1] > 0:\n",
    "           minopen = x[1]\n",
    "        if  x[1] > maxopen:\n",
    "           maxopen = x[1]\n",
    "        if x[2] - x[3] > maxonedaychange:\n",
    "            maxonedaychange = x[2] - x[3]\n",
    "        if priorclose > x[4]:\n",
    "            if priorclose - x[4] > maxtwodaychange:\n",
    "                maxtwodaychange = priorclose - x[4]\n",
    "        else:\n",
    "            if x[4] - priorclose > maxtwodaychange:\n",
    "                maxtwodaychange = x[4] - priorclose\n",
    "        priorclose=x[4]\n",
    "        tradedvolume=tradedvolume + x[6]\n",
    "        days=days+1\n",
    "                \n",
    "print(minopen,maxopen,maxonedaychange,maxtwodaychange,tradedvolume,days)   \n",
    "        "
   ]
  },
  {
   "cell_type": "markdown",
   "metadata": {},
   "source": [
    "These are your tasks for this mini project:\n",
    "\n",
    "1. Collect data from the Franfurt Stock Exchange, for the ticker AFX_X, for the whole year 2017 (keep in mind that the date format is YYYY-MM-DD).\n",
    "2. Convert the returned JSON object into a Python dictionary.\n",
    "3. Calculate what the highest and lowest opening prices were for the stock in this period.\n",
    "4. What was the largest change in any one day (based on High and Low price)?\n",
    "5. What was the largest change between any two days (based on Closing Price)?\n",
    "6. What was the average daily trading volume during this year?\n",
    "7. (Optional) What was the median trading volume during this year. (Note: you may need to implement your own function for calculating the median.)"
   ]
  },
  {
   "cell_type": "code",
   "execution_count": 5,
   "metadata": {},
   "outputs": [
    {
     "name": "stdout",
     "output_type": "stream",
     "text": [
      "lowest opening price: 34.0\n",
      "highest opening price: 53.11\n",
      "largest change in any one day: 2.8100000000000023\n",
      "largest change between any two days: 2.559999999999995\n",
      "average daily trading volume : 89140.97619047618\n"
     ]
    }
   ],
   "source": [
    "print('lowest opening price:',minopen)\n",
    "print('highest opening price:',maxopen)\n",
    "print('largest change in any one day:',maxonedaychange)\n",
    "print('largest change between any two days:',maxtwodaychange)\n",
    "print('average daily trading volume :',tradedvolume/days)"
   ]
  }
 ],
 "metadata": {
  "kernelspec": {
   "display_name": "Python 3",
   "language": "python",
   "name": "python3"
  },
  "language_info": {
   "codemirror_mode": {
    "name": "ipython",
    "version": 3
   },
   "file_extension": ".py",
   "mimetype": "text/x-python",
   "name": "python",
   "nbconvert_exporter": "python",
   "pygments_lexer": "ipython3",
   "version": "3.8.3"
  }
 },
 "nbformat": 4,
 "nbformat_minor": 2
}
